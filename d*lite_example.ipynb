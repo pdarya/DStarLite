{
 "cells": [
  {
   "cell_type": "markdown",
   "metadata": {
    "toc": true
   },
   "source": [
    "<h1>Table of Contents<span class=\"tocSkip\"></span></h1>\n",
    "<div class=\"toc\"><ul class=\"toc-item\"><li><span><a href=\"#Example-of-D*-Lite-algorithm\" data-toc-modified-id=\"Example-of-D*-Lite-algorithm-1\"><span class=\"toc-item-num\">1&nbsp;&nbsp;</span>Example of D* Lite algorithm</a></span><ul class=\"toc-item\"><li><span><a href=\"#Grid-definition\" data-toc-modified-id=\"Grid-definition-1.1\"><span class=\"toc-item-num\">1.1&nbsp;&nbsp;</span>Grid definition</a></span></li></ul></li></ul></div>"
   ]
  },
  {
   "cell_type": "markdown",
   "metadata": {},
   "source": [
    "# Example of D* Lite algorithm"
   ]
  },
  {
   "cell_type": "markdown",
   "metadata": {},
   "source": [
    "## Grid definition"
   ]
  },
  {
   "cell_type": "code",
   "execution_count": 16,
   "metadata": {},
   "outputs": [],
   "source": [
    "from grid import Grid\n",
    "from d_star_lite import DStarLiteRunner\n",
    "from node import Node\n",
    "import utils\n",
    "from visialization_utils import get_image\n",
    "\n",
    "%matplotlib inline"
   ]
  },
  {
   "cell_type": "code",
   "execution_count": 2,
   "metadata": {},
   "outputs": [],
   "source": [
    "mapstr = \"\"\"\n",
    ". . . # # . . . . . . . . # # . . . # . . # # . . . . . . .\n",
    ". . . # # # # # . . # . . # # . . . . . . # # . . . . . . .\n",
    ". . . . . . . # . . # . . # # . . . # . . # # . . . . . . .\n",
    ". . . # # . . # . . # . . # # . . . # . . # # . . . . . . .\n",
    ". . . # # . . # . . # . . # # . . . # . . # # . . . . . . .\n",
    ". . . # # . . # . . # . . # # . . . # . . # # # # # . . . .\n",
    ". . . # # . . # . . # . . # # . . . # . . # # # # # . . . .\n",
    ". . . . . . . # . . # . . # # . . . # . . # . . . . . . . .\n",
    ". . . # # . . # . . # . . # # . . . # . . # . . . . . . . .\n",
    ". . . # # . . # . . # . . # # . . . # . . # . . . . . . . .\n",
    ". . . # # . . . . . # . . . . . . . # . . . . . . . . . . .\n",
    ". . . # # # # # # # # # # # # # . # # . # # # # # # # . # #\n",
    ". . . # # . . . . . . . . # # . . . . . . . . . . . . . . .\n",
    ". . . . . . . . . . . . . . . . . . . . . . . . . . . . . .\n",
    ". . . # # . . . . . . . . # # . . . . . . . . . . . . . . .\n",
    "\"\"\""
   ]
  },
  {
   "cell_type": "code",
   "execution_count": 3,
   "metadata": {},
   "outputs": [],
   "source": [
    "grid_example = Grid(height=15, width=30)"
   ]
  },
  {
   "cell_type": "code",
   "execution_count": 4,
   "metadata": {},
   "outputs": [],
   "source": [
    "grid_example.read_from_string(mapstr)"
   ]
  },
  {
   "cell_type": "code",
   "execution_count": 7,
   "metadata": {},
   "outputs": [],
   "source": [
    "runner = DStarLiteRunner(grid_example, (1, 1), (12, 25), observe_range=2)"
   ]
  },
  {
   "cell_type": "code",
   "execution_count": 10,
   "metadata": {},
   "outputs": [],
   "source": [
    "from node import Node"
   ]
  },
  {
   "cell_type": "code",
   "execution_count": 135,
   "metadata": {},
   "outputs": [
    {
     "data": {
      "image/png": "[encoded data removed]",
      "text/plain": [
       "<PIL.Image.Image image mode=RGB size=900x450 at 0x122592B10>"
      ]
     },
     "execution_count": 135,
     "metadata": {},
     "output_type": "execute_result"
    }
   ],
   "source": [
    "Draw(grid_example, start_node=Node((1, 1)), goal_node=Node((12, 25)), traveled_path=[(1, 1)], planned_path=future_path)"
   ]
  },
  {
   "cell_type": "code",
   "execution_count": 133,
   "metadata": {},
   "outputs": [],
   "source": [
    "future_path = runner.get_path_to_goal(result[0])"
   ]
  },
  {
   "cell_type": "code",
   "execution_count": 11,
   "metadata": {},
   "outputs": [
    {
     "name": "stdout",
     "output_type": "stream",
     "text": [
      "No changes by moving to {} (2, 6)\n",
      "No changes by moving to {} (3, 6)\n",
      "No changes by moving to {} (4, 6)\n",
      "No changes by moving to {} (5, 6)\n",
      "No changes by moving to {} (5, 7)\n",
      "No changes by moving to {} (5, 9)\n",
      "No changes by moving to {} (6, 9)\n",
      "No changes by moving to {} (7, 9)\n",
      "No changes by moving to {} (8, 9)\n",
      "No changes by moving to {} (8, 10)\n",
      "No changes by moving to {} (10, 14)\n",
      "No changes by moving to {} (11, 16)\n",
      "No changes by moving to {} (12, 16)\n",
      "No changes by moving to {} (12, 17)\n",
      "No changes by moving to {} (12, 25)\n"
     ]
    }
   ],
   "source": [
    "traveled_path = []\n",
    "images = []\n",
    "\n",
    "for node, planned_path in runner.find_path():\n",
    "    traveled_path.append(node.position)\n",
    "    images.append(Draw(grid_example, \n",
    "                       start_node=Node((1, 1)), \n",
    "                       goal_node=Node((12, 25)), \n",
    "                       traveled_path=traveled_path, \n",
    "                       planned_path=planned_path))"
   ]
  },
  {
   "cell_type": "code",
   "execution_count": null,
   "metadata": {},
   "outputs": [],
   "source": []
  },
  {
   "cell_type": "code",
   "execution_count": 122,
   "metadata": {},
   "outputs": [
    {
     "data": {
      "text/plain": [
       "36"
      ]
     },
     "execution_count": 122,
     "metadata": {},
     "output_type": "execute_result"
    }
   ],
   "source": [
    "len(images)"
   ]
  },
  {
   "cell_type": "code",
   "execution_count": 14,
   "metadata": {},
   "outputs": [
    {
     "data": {
      "text/plain": [
       "<matplotlib.image.AxesImage at 0x12442e350>"
      ]
     },
     "execution_count": 14,
     "metadata": {},
     "output_type": "execute_result"
    },
    {
     "data": {
      "image/png": "[encoded data removed]",
      "text/plain": [
       "<Figure size 900x600 with 1 Axes>"
      ]
     },
     "metadata": {
      "needs_background": "light"
     },
     "output_type": "display_data"
    }
   ],
   "source": [
    "fig, ax = plt.subplots(dpi=150)\n",
    "ax.axes.xaxis.set_visible(False)\n",
    "ax.axes.yaxis.set_visible(False)\n",
    "plt.imshow(np.asarray(images[11]))"
   ]
  },
  {
   "cell_type": "code",
   "execution_count": 15,
   "metadata": {},
   "outputs": [],
   "source": [
    "images[0].save('example.gif', \n",
    "               save_all=True, \n",
    "               append_images=images[1:], \n",
    "               optimize=False, \n",
    "               duration=200, \n",
    "               loop=0)"
   ]
  },
  {
   "cell_type": "code",
   "execution_count": null,
   "metadata": {},
   "outputs": [],
   "source": []
  },
  {
   "cell_type": "code",
   "execution_count": 126,
   "metadata": {},
   "outputs": [],
   "source": [
    "from PIL import Image, ImageDraw\n",
    "import numpy as np\n",
    "import matplotlib.pyplot as plt\n",
    "import math\n",
    "from sys import float_info\n",
    "EPS = float_info.epsilon\n",
    "%matplotlib inline\n",
    "\n",
    "def Draw(grid_map, start=None, goal=None, path=None, actual=True):\n",
    "    '''\n",
    "    Visualize current environment observed by the agent.\n",
    "    '''\n",
    "    k = 30\n",
    "    hIm = grid_map.height * k\n",
    "    wIm = grid_map.width * k\n",
    "    im = Image.new('RGB', (wIm, hIm), color = 'white')\n",
    "    draw = ImageDraw.Draw(im)\n",
    "\n",
    "    for i in range(grid_map.height):\n",
    "        for j in range(grid_map.width):\n",
    "            if actual and (grid_map.is_wall_cell_actual[i][j] == 1):\n",
    "                draw.rectangle((j * k, i * k, (j + 1) * k - 1, (i + 1) * k - 1), fill=(70, 80, 80))\n",
    "            if not actual and (grid_map.is_wall_cell_observed[i][j] == 1):\n",
    "                draw.rectangle((j * k, i * k, (j + 1) * k - 1, (i + 1) * k - 1), fill=(70, 80, 80))\n",
    "\n",
    "    if (start is not None) and (grid_map.is_traversable(start.row, start.column)):\n",
    "        draw.rectangle((start.column * k, \n",
    "                        start.row * k, \n",
    "                        (start.column + 1) * k - 1, \n",
    "                        (start.row + 1) * k - 1), \n",
    "                       fill=(40, 180, 99), width=0)\n",
    "\n",
    "    if (goal is not None) and (grid_map.is_traversable(goal.row, goal.column)):\n",
    "        draw.rectangle((goal.column * k, \n",
    "                        goal.row * k, \n",
    "                        (goal.column + 1) * k - 1, \n",
    "                        (goal.row + 1) * k - 1), \n",
    "                       fill=(231, 76, 60), width=0)\n",
    "\n",
    "    fig, ax = plt.subplots(dpi=150)\n",
    "    ax.axes.xaxis.set_visible(False)\n",
    "    ax.axes.yaxis.set_visible(False)\n",
    "    plt.imshow(np.asarray(im))"
   ]
  }
 ],
 "metadata": {
  "kernelspec": {
   "display_name": "Python 3",
   "language": "python",
   "name": "python3"
  },
  "language_info": {
   "codemirror_mode": {
    "name": "ipython",
    "version": 3
   },
   "file_extension": ".py",
   "mimetype": "text/x-python",
   "name": "python",
   "nbconvert_exporter": "python",
   "pygments_lexer": "ipython3",
   "version": "3.7.4"
  },
  "toc": {
   "base_numbering": 1,
   "nav_menu": {},
   "number_sections": true,
   "sideBar": true,
   "skip_h1_title": false,
   "title_cell": "Table of Contents",
   "title_sidebar": "Contents",
   "toc_cell": true,
   "toc_position": {},
   "toc_section_display": true,
   "toc_window_display": false
  }
 },
 "nbformat": 4,
 "nbformat_minor": 2
}
